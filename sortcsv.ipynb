{
 "cells": [
  {
   "cell_type": "code",
   "execution_count": 8,
   "metadata": {},
   "outputs": [],
   "source": [
    "import pandas as pd\n",
    "\n",
    "# Define the testset name and paths for the input CSVs\n",
    "testset_name = \"testset\"\n",
    "testset = \"graphs/\" + testset_name\n",
    "\n",
    "properties_file = testset + \"/properties.csv\"\n",
    "findminhs_file = testset + \"/findminhs.csv\"\n",
    "highs_file = testset + \"/highs.csv\"\n",
    "scip_file = testset + \"/scip.csv\"\n",
    "\n",
    "# Read the CSV files into pandas DataFrames\n",
    "df_properties = pd.read_csv(properties_file)\n",
    "df_findminhs = pd.read_csv(findminhs_file)\n",
    "df_highs = pd.read_csv(highs_file)\n",
    "df_scip = pd.read_csv(scip_file)\n",
    "\n",
    "# Merge the DataFrames on the 'Name' column\n",
    "df_merged = pd.merge(df_properties, df_findminhs, on=\"Name\", how=\"left\")\n",
    "df_merged = pd.merge(df_merged, df_highs, on=\"Name\", how=\"left\")\n",
    "df_merged = pd.merge(df_merged, df_scip, on=\"Name\", how=\"left\")\n",
    "\n",
    "# Rename columns after the merge if necessary\n",
    "df_merged = df_merged.rename(columns={\n",
    "    \"Vertices\": \"Num_Vertices\",\n",
    "    \"Edges\": \"Num_Edges\",\n",
    "    \"Density\": \"Edge_Density\",\n",
    "    \"Max Degree\": \"Max_Degree\",\n",
    "    \"Lower Bound\": \"Lower_Bound\",\n",
    "    \"Upper Bound\": \"Upper_Bound\",\n",
    "    \"Time Taken (seconds)_x\": \"Time_FindMinHS\",\n",
    "    \"Solution Size_x\": \"Solution_Size_HiGHS\",\n",
    "    \"Time Taken (seconds)_y\": \"Time_HiGHS\",\n",
    "    \"Solution Size_y\": \"Solution_Size_SCIP\",\n",
    "    \"Time Taken (seconds)\": \"Time_SCIP\"\n",
    "})\n",
    "\n",
    "# Save the merged DataFrame to a new CSV file\n",
    "df_merged.to_csv(testset + \"/merged_output.csv\", index=False)\n",
    "\n",
    "# Display the merged DataFrame\n",
    "#print(df_merged)\n"
   ]
  }
 ],
 "metadata": {
  "kernelspec": {
   "display_name": "3dcv-students",
   "language": "python",
   "name": "python3"
  },
  "language_info": {
   "codemirror_mode": {
    "name": "ipython",
    "version": 3
   },
   "file_extension": ".py",
   "mimetype": "text/x-python",
   "name": "python",
   "nbconvert_exporter": "python",
   "pygments_lexer": "ipython3",
   "version": "3.10.15"
  }
 },
 "nbformat": 4,
 "nbformat_minor": 2
}
